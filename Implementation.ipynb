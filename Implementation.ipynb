{
 "cells": [
  {
   "cell_type": "code",
   "execution_count": null,
   "metadata": {},
   "outputs": [],
   "source": [
    "import pandas as pd\n",
    "import numpy as np\n",
    "\n",
    "from itertools import combinations\n",
    "\n",
    "from IPython.display import clear_output"
   ]
  },
  {
   "cell_type": "markdown",
   "metadata": {},
   "source": [
    "# Data reading"
   ]
  },
  {
   "cell_type": "code",
   "execution_count": null,
   "metadata": {},
   "outputs": [],
   "source": [
    "lines = []\n",
    "categories = []\n",
    "with open(\"categories.txt\", \"r\") as file:\n",
    "    for line in file:\n",
    "        lines.append(line.replace(\"\\n\", \"\").split(\";\"))\n",
    "        categories.extend(line.replace(\"\\n\", \"\").split(\";\"))"
   ]
  },
  {
   "cell_type": "markdown",
   "metadata": {},
   "source": [
    "# First file"
   ]
  },
  {
   "cell_type": "code",
   "execution_count": null,
   "metadata": {},
   "outputs": [],
   "source": [
    "min_support = 0.01 * len(lines)\n",
    "\n",
    "single_categories_with_support = list(\n",
    "    filter(\n",
    "        lambda line: line[1] > min_support, \n",
    "        pd.DataFrame(pd.Series(categories).value_counts()).reset_index().values\n",
    "    )\n",
    ")\n",
    "\n",
    "with open('patterns.txt', 'w') as file:\n",
    "    for name, support in single_categories_with_support:\n",
    "        file.write(\"{}:{}\\n\".format(support, name))"
   ]
  },
  {
   "cell_type": "markdown",
   "metadata": {},
   "source": [
    "# Second file"
   ]
  },
  {
   "cell_type": "code",
   "execution_count": null,
   "metadata": {},
   "outputs": [],
   "source": [
    "frequent_itemsets = {}\n",
    "\n",
    "for line in lines:\n",
    "    for i in range(1, len(line)):\n",
    "        for result_combination in combinations(line, i):\n",
    "            combination = frozenset(result_combination)\n",
    "            if combination in frequent_itemsets:\n",
    "                frequent_itemsets[combination] = frequent_itemsets[combination] + 1\n",
    "            else:\n",
    "                frequent_itemsets[combination] = 1"
   ]
  },
  {
   "cell_type": "code",
   "execution_count": null,
   "metadata": {},
   "outputs": [],
   "source": [
    "correct_counted = {}\n",
    "\n",
    "keys_number = len(frequent_itemsets.keys())\n",
    "\n",
    "for i, key in enumerate(frequent_itemsets.keys()):\n",
    "    count_key = 0\n",
    "    clear_output(wait=True)\n",
    "    print(i/keys_number)\n",
    "    \n",
    "    for line in lines:\n",
    "        if all(elem in line for elem in key):\n",
    "            count_key = count_key + 1\n",
    "    correct_counted[key] = count_key"
   ]
  },
  {
   "cell_type": "code",
   "execution_count": null,
   "metadata": {},
   "outputs": [],
   "source": [
    "with open('patterns.txt', 'w') as file:\n",
    "    for key, value in frequent_itemsets.items():\n",
    "        if value > min_support:\n",
    "            file.write(\"{}:{}\\n\".format(value, \";\".join(key)))"
   ]
  }
 ],
 "metadata": {
  "kernelspec": {
   "display_name": "Python 3",
   "language": "python",
   "name": "python3"
  },
  "language_info": {
   "codemirror_mode": {
    "name": "ipython",
    "version": 3
   },
   "file_extension": ".py",
   "mimetype": "text/x-python",
   "name": "python",
   "nbconvert_exporter": "python",
   "pygments_lexer": "ipython3",
   "version": "3.6.8"
  }
 },
 "nbformat": 4,
 "nbformat_minor": 2
}
